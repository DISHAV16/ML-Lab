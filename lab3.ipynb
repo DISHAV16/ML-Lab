{
 "cells": [
  {
   "cell_type": "code",
   "execution_count": 59,
   "id": "f71d3f66-96bb-473c-a352-53135590133d",
   "metadata": {},
   "outputs": [],
   "source": [
    "import pandas as pd\n",
    "import numpy as np\n",
    "import matplotlib.pyplot as plt\n",
    "import seaborn as sns\n"
   ]
  },
  {
   "cell_type": "code",
   "execution_count": 67,
   "id": "68e07a00-1a2f-43f4-92e1-ca806a5fc1b3",
   "metadata": {},
   "outputs": [
    {
     "data": {
      "text/html": [
       "<div>\n",
       "<style scoped>\n",
       "    .dataframe tbody tr th:only-of-type {\n",
       "        vertical-align: middle;\n",
       "    }\n",
       "\n",
       "    .dataframe tbody tr th {\n",
       "        vertical-align: top;\n",
       "    }\n",
       "\n",
       "    .dataframe thead th {\n",
       "        text-align: right;\n",
       "    }\n",
       "</style>\n",
       "<table border=\"1\" class=\"dataframe\">\n",
       "  <thead>\n",
       "    <tr style=\"text-align: right;\">\n",
       "      <th></th>\n",
       "      <th>feature_1</th>\n",
       "      <th>feature_2</th>\n",
       "      <th>feature_3</th>\n",
       "      <th>feature_4</th>\n",
       "      <th>feature_5</th>\n",
       "      <th>feature_6</th>\n",
       "      <th>feature_7</th>\n",
       "      <th>feature_8</th>\n",
       "      <th>feature_9</th>\n",
       "      <th>feature_10</th>\n",
       "      <th>...</th>\n",
       "      <th>feature_49</th>\n",
       "      <th>feature_50</th>\n",
       "      <th>feature_51</th>\n",
       "      <th>feature_52</th>\n",
       "      <th>feature_53</th>\n",
       "      <th>feature_54</th>\n",
       "      <th>feature_55</th>\n",
       "      <th>feature_56</th>\n",
       "      <th>feature_57</th>\n",
       "      <th>label</th>\n",
       "    </tr>\n",
       "  </thead>\n",
       "  <tbody>\n",
       "    <tr>\n",
       "      <th>0</th>\n",
       "      <td>0.00</td>\n",
       "      <td>0.64</td>\n",
       "      <td>0.64</td>\n",
       "      <td>0.0</td>\n",
       "      <td>0.32</td>\n",
       "      <td>0.00</td>\n",
       "      <td>0.00</td>\n",
       "      <td>0.00</td>\n",
       "      <td>0.00</td>\n",
       "      <td>0.00</td>\n",
       "      <td>...</td>\n",
       "      <td>0.00</td>\n",
       "      <td>0.000</td>\n",
       "      <td>0.0</td>\n",
       "      <td>0.778</td>\n",
       "      <td>0.000</td>\n",
       "      <td>0.000</td>\n",
       "      <td>3.756</td>\n",
       "      <td>61</td>\n",
       "      <td>278</td>\n",
       "      <td>1</td>\n",
       "    </tr>\n",
       "    <tr>\n",
       "      <th>1</th>\n",
       "      <td>0.21</td>\n",
       "      <td>0.28</td>\n",
       "      <td>0.50</td>\n",
       "      <td>0.0</td>\n",
       "      <td>0.14</td>\n",
       "      <td>0.28</td>\n",
       "      <td>0.21</td>\n",
       "      <td>0.07</td>\n",
       "      <td>0.00</td>\n",
       "      <td>0.94</td>\n",
       "      <td>...</td>\n",
       "      <td>0.00</td>\n",
       "      <td>0.132</td>\n",
       "      <td>0.0</td>\n",
       "      <td>0.372</td>\n",
       "      <td>0.180</td>\n",
       "      <td>0.048</td>\n",
       "      <td>5.114</td>\n",
       "      <td>101</td>\n",
       "      <td>1028</td>\n",
       "      <td>1</td>\n",
       "    </tr>\n",
       "    <tr>\n",
       "      <th>2</th>\n",
       "      <td>0.06</td>\n",
       "      <td>0.00</td>\n",
       "      <td>0.71</td>\n",
       "      <td>0.0</td>\n",
       "      <td>1.23</td>\n",
       "      <td>0.19</td>\n",
       "      <td>0.19</td>\n",
       "      <td>0.12</td>\n",
       "      <td>0.64</td>\n",
       "      <td>0.25</td>\n",
       "      <td>...</td>\n",
       "      <td>0.01</td>\n",
       "      <td>0.143</td>\n",
       "      <td>0.0</td>\n",
       "      <td>0.276</td>\n",
       "      <td>0.184</td>\n",
       "      <td>0.010</td>\n",
       "      <td>9.821</td>\n",
       "      <td>485</td>\n",
       "      <td>2259</td>\n",
       "      <td>1</td>\n",
       "    </tr>\n",
       "    <tr>\n",
       "      <th>3</th>\n",
       "      <td>0.00</td>\n",
       "      <td>0.00</td>\n",
       "      <td>0.00</td>\n",
       "      <td>0.0</td>\n",
       "      <td>0.63</td>\n",
       "      <td>0.00</td>\n",
       "      <td>0.31</td>\n",
       "      <td>0.63</td>\n",
       "      <td>0.31</td>\n",
       "      <td>0.63</td>\n",
       "      <td>...</td>\n",
       "      <td>0.00</td>\n",
       "      <td>0.137</td>\n",
       "      <td>0.0</td>\n",
       "      <td>0.137</td>\n",
       "      <td>0.000</td>\n",
       "      <td>0.000</td>\n",
       "      <td>3.537</td>\n",
       "      <td>40</td>\n",
       "      <td>191</td>\n",
       "      <td>1</td>\n",
       "    </tr>\n",
       "    <tr>\n",
       "      <th>4</th>\n",
       "      <td>0.00</td>\n",
       "      <td>0.00</td>\n",
       "      <td>0.00</td>\n",
       "      <td>0.0</td>\n",
       "      <td>0.63</td>\n",
       "      <td>0.00</td>\n",
       "      <td>0.31</td>\n",
       "      <td>0.63</td>\n",
       "      <td>0.31</td>\n",
       "      <td>0.63</td>\n",
       "      <td>...</td>\n",
       "      <td>0.00</td>\n",
       "      <td>0.135</td>\n",
       "      <td>0.0</td>\n",
       "      <td>0.135</td>\n",
       "      <td>0.000</td>\n",
       "      <td>0.000</td>\n",
       "      <td>3.537</td>\n",
       "      <td>40</td>\n",
       "      <td>191</td>\n",
       "      <td>1</td>\n",
       "    </tr>\n",
       "  </tbody>\n",
       "</table>\n",
       "<p>5 rows × 58 columns</p>\n",
       "</div>"
      ],
      "text/plain": [
       "   feature_1  feature_2  feature_3  feature_4  feature_5  feature_6  \\\n",
       "0       0.00       0.64       0.64        0.0       0.32       0.00   \n",
       "1       0.21       0.28       0.50        0.0       0.14       0.28   \n",
       "2       0.06       0.00       0.71        0.0       1.23       0.19   \n",
       "3       0.00       0.00       0.00        0.0       0.63       0.00   \n",
       "4       0.00       0.00       0.00        0.0       0.63       0.00   \n",
       "\n",
       "   feature_7  feature_8  feature_9  feature_10  ...  feature_49  feature_50  \\\n",
       "0       0.00       0.00       0.00        0.00  ...        0.00       0.000   \n",
       "1       0.21       0.07       0.00        0.94  ...        0.00       0.132   \n",
       "2       0.19       0.12       0.64        0.25  ...        0.01       0.143   \n",
       "3       0.31       0.63       0.31        0.63  ...        0.00       0.137   \n",
       "4       0.31       0.63       0.31        0.63  ...        0.00       0.135   \n",
       "\n",
       "   feature_51  feature_52  feature_53  feature_54  feature_55  feature_56  \\\n",
       "0         0.0       0.778       0.000       0.000       3.756          61   \n",
       "1         0.0       0.372       0.180       0.048       5.114         101   \n",
       "2         0.0       0.276       0.184       0.010       9.821         485   \n",
       "3         0.0       0.137       0.000       0.000       3.537          40   \n",
       "4         0.0       0.135       0.000       0.000       3.537          40   \n",
       "\n",
       "   feature_57  label  \n",
       "0         278      1  \n",
       "1        1028      1  \n",
       "2        2259      1  \n",
       "3         191      1  \n",
       "4         191      1  \n",
       "\n",
       "[5 rows x 58 columns]"
      ]
     },
     "execution_count": 67,
     "metadata": {},
     "output_type": "execute_result"
    }
   ],
   "source": [
    "# Define column names\n",
    "columns = [f'feature_{i+1}' for i in range(57)] + ['label']\n",
    "\n",
    "# Load the dataset\n",
    "url = \"https://archive.ics.uci.edu/ml/machine-learning-databases/spambase/spambase.data\"\n",
    "data = pd.read_csv(url, header=None, names=columns)\n",
    "\n",
    "# Display the first few rows\n",
    "data.head()\n"
   ]
  },
  {
   "cell_type": "code",
   "execution_count": 68,
   "id": "81d3a85d-0b5f-4363-ac6d-5853184d9fb0",
   "metadata": {},
   "outputs": [
    {
     "data": {
      "image/png": "[encoded data removed]",
      "text/plain": [
       "<Figure size 640x480 with 1 Axes>"
      ]
     },
     "metadata": {},
     "output_type": "display_data"
    },
    {
     "name": "stdout",
     "output_type": "stream",
     "text": [
      "Total emails (N): 4601\n",
      "Spam emails (N1): 1813\n",
      "Non-spam emails (N0): 2788\n"
     ]
    }
   ],
   "source": [
    "# Plot the distribution of the target variable\n",
    "sns.countplot(x='label', data=data)\n",
    "plt.title('Distribution of Spam vs. Non-Spam Emails')\n",
    "plt.xlabel('Label')\n",
    "plt.ylabel('Count')\n",
    "plt.show()\n",
    "\n",
    "N = len(data)                 # Total emails\n",
    "N1 = data['label'].sum()      # Number of spam emails (label=1)\n",
    "N0 = N - N1                   # Number of non-spam emails (label=0)\n",
    "\n",
    "print(f\"Total emails (N): {N}\")\n",
    "print(f\"Spam emails (N1): {N1}\")\n",
    "print(f\"Non-spam emails (N0): {N0}\")\n"
   ]
  },
  {
   "cell_type": "code",
   "execution_count": 69,
   "id": "b40ed4ee-1c1e-4ac2-979e-e68f5f011d05",
   "metadata": {},
   "outputs": [
    {
     "name": "stdout",
     "output_type": "stream",
     "text": [
      "Prior Probabilities:\n",
      "label\n",
      "0    0.605955\n",
      "1    0.394045\n",
      "Name: proportion, dtype: float64\n"
     ]
    }
   ],
   "source": [
    "# Calculate prior probabilities\n",
    "prior_probs = data['label'].value_counts(normalize=True)\n",
    "print(\"Prior Probabilities:\")\n",
    "print(prior_probs)\n"
   ]
  },
  {
   "cell_type": "code",
   "execution_count": 70,
   "id": "0e82247d-43d1-42ce-b4d6-73a21c12e485",
   "metadata": {},
   "outputs": [
    {
     "name": "stdout",
     "output_type": "stream",
     "text": [
      "Likelihood (P(feature_1 | label)):\n",
      "label             0         1\n",
      "feature_1                    \n",
      "0.00       0.852224  0.646442\n",
      "0.01       0.001435  0.000000\n",
      "0.02       0.001435  0.000000\n",
      "0.03       0.001435  0.000000\n",
      "0.04       0.002511  0.000000\n",
      "...             ...       ...\n",
      "3.84       0.000359  0.000000\n",
      "3.94       0.000359  0.000000\n",
      "4.00       0.000359  0.000000\n",
      "4.34       0.000359  0.000000\n",
      "4.54       0.000000  0.000552\n",
      "\n",
      "[142 rows x 2 columns]\n"
     ]
    }
   ],
   "source": [
    "# Calculate likelihood P(feature_1 | label)\n",
    "likelihood = pd.crosstab(data['feature_1'], data['label'], normalize='columns')\n",
    "print(\"Likelihood (P(feature_1 | label)):\")\n",
    "print(likelihood)\n"
   ]
  },
  {
   "cell_type": "code",
   "execution_count": 79,
   "id": "c54a8409-2af0-433e-9317-de46a989ee35",
   "metadata": {},
   "outputs": [
    {
     "name": "stdout",
     "output_type": "stream",
     "text": [
      "Posterior Probability (Spam | feature_1 = 0.1): 0.7647058823529411\n",
      "Posterior Probability (Not Spam | feature_1 = 0.1): 0.23529411764705882\n"
     ]
    }
   ],
   "source": [
    "# Define the feature value\n",
    "feature_value = 0.1\n",
    "\n",
    "# Calculate the likelihood P(feature_1 = 0.1 | label)\n",
    "likelihood_value = likelihood.loc[feature_value] if feature_value in likelihood.index else [0, 0]\n",
    "\n",
    "# Calculate the prior probabilities\n",
    "prior_spam = prior_probs[1]  # P(label = 1)\n",
    "prior_ham = prior_probs[0]   # P(label = 0)\n",
    "\n",
    "# Calculate the marginal likelihood P(feature_1 = 0.1)\n",
    "marginal_likelihood = (likelihood_value[0] * prior_ham) + (likelihood_value[1] * prior_spam)\n",
    "\n",
    "# Calculate the posterior probabilities\n",
    "posterior_spam = (likelihood_value[1] * prior_spam) / marginal_likelihood\n",
    "posterior_ham = (likelihood_value[0] * prior_ham) / marginal_likelihood\n",
    "\n",
    "print(f\"Posterior Probability (Spam | feature_1 = {feature_value}): {posterior_spam}\")\n",
    "print(f\"Posterior Probability (Not Spam | feature_1 = {feature_value}): {posterior_ham}\")\n"
   ]
  },
  {
   "cell_type": "code",
   "execution_count": 81,
   "id": "13fd6d9a-0c1f-4f91-8fe6-99cc1868722c",
   "metadata": {},
   "outputs": [
    {
     "data": {
      "image/png": "[encoded data removed]",
      "text/plain": [
       "<Figure size 640x480 with 1 Axes>"
      ]
     },
     "metadata": {},
     "output_type": "display_data"
    }
   ],
   "source": [
    "# Plotting feature_1 vs. label\n",
    "sns.boxplot(x='label', y='feature_1', data=data)\n",
    "plt.title('Boxplot of feature_1 by Email Type')\n",
    "plt.xlabel('Label')\n",
    "plt.ylabel('feature_1')\n",
    "plt.show()\n"
   ]
  },
  {
   "cell_type": "code",
   "execution_count": null,
   "id": "94496a4a-41c5-43b7-aaa5-d9d617599bd7",
   "metadata": {},
   "outputs": [],
   "source": []
  }
 ],
 "metadata": {
  "kernelspec": {
   "display_name": "Python [conda env:base] *",
   "language": "python",
   "name": "conda-base-py"
  },
  "language_info": {
   "codemirror_mode": {
    "name": "ipython",
    "version": 3
   },
   "file_extension": ".py",
   "mimetype": "text/x-python",
   "name": "python",
   "nbconvert_exporter": "python",
   "pygments_lexer": "ipython3",
   "version": "3.12.7"
  }
 },
 "nbformat": 4,
 "nbformat_minor": 5
}
